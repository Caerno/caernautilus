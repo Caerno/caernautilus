{
 "cells": [
  {
   "cell_type": "code",
   "execution_count": 1,
   "metadata": {},
   "outputs": [],
   "source": [
    "import zipfile\n",
    "\n",
    "package_list = [\"__init__.py\", \"classes.py\", \"input.py\", \"output.py\"]\n",
    "zipfile_path = \".\\download\\caernautilus.zip\"\n",
    "\n",
    "with zipfile.ZipFile(zipfile_path, \"w\") as zfile:\n",
    "    for file in package_list:\n",
    "        zfile.write(file)"
   ]
  }
 ],
 "metadata": {
  "interpreter": {
   "hash": "76c2100c6eb6ff84c700828ff783897c50039e1b5f940bd69b4767e1ab8ca004"
  },
  "kernelspec": {
   "display_name": "Python 3.9.10 ('base')",
   "language": "python",
   "name": "python3"
  },
  "language_info": {
   "codemirror_mode": {
    "name": "ipython",
    "version": 3
   },
   "file_extension": ".py",
   "mimetype": "text/x-python",
   "name": "python",
   "nbconvert_exporter": "python",
   "pygments_lexer": "ipython3",
   "version": "3.9.10"
  },
  "orig_nbformat": 4
 },
 "nbformat": 4,
 "nbformat_minor": 2
}
